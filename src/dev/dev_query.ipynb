{
 "cells": [
  {
   "cell_type": "code",
   "execution_count": 535,
   "metadata": {},
   "outputs": [],
   "source": [
    "import re\n",
    "from datetime import datetime, timedelta\n",
    "\n",
    "def __check_input(start_date, end_date, days, hours):\n",
    "    format = \"%Y-%m-%d\"\n",
    "\n",
    "    # Handle input for \"start_date\" and \"end_date\" \n",
    "    try:\n",
    "        start_date = datetime.strptime(start_date, format)\n",
    "    except ValueError as ve:\n",
    "        raise ValueError('Invalid start date: {0}. Make sure it follows the expected format: yyyy-mm-dd and uses actual calender dates.'.format(start_date)) from ve\n",
    "\n",
    "    try:\n",
    "        end_date = datetime.strptime(end_date, format)\n",
    "    except ValueError as ve:\n",
    "        raise ValueError('Invalid end date: {0}. Make sure it follows the expected format: yyyy-mm-dd and uses actual calender dates.'.format(end_date)) from ve\n",
    "\n",
    "    if end_date < start_date:\n",
    "        raise ValueError('End date {0} is set earlier than start date {1}'.format(end_date.strftime(\"%Y-%m-%d\"), start_date.strftime(\"%Y-%m-%d\")))\n",
    "\n",
    "\n",
    "\n",
    "    # Handle input for \"days\"\n",
    "    days_pattern = re.compile(r'^[a-zA-Z]{3}(, ?[a-zA-Z]{3})*$')\n",
    "    if not days_pattern.match(days):\n",
    "        raise ValueError('The input string for days: \"{0}\" is not in a valid format. Please provide as a string of comma separated days. Example: \"mon, tue, wed\"'.format(days))\n",
    "\n",
    "    days_list = [day.strip().lower() for day in days.split(',')]\n",
    "    valid_days = [\"mon\", \"tue\", \"wed\", \"thu\", \"fri\", \"sat\", \"sun\", \"all\"]\n",
    "\n",
    "    for day in days_list:\n",
    "        if day not in valid_days:\n",
    "            raise ValueError('The given day \"{0}\" is not a valid day. Please use the standard three letter abbreviations: mon, tue, wed, thu, fri, sat, sun, or all.'.format(day, days))\n",
    "\n",
    "    if \"all\" in days and len(days) > 1: \n",
    "        raise ValueError('Use of \"all\" together with other specified days: {0}. Option \"all\" should be used alone.'.format(days))\n",
    "\n",
    "    day_map = {day: i for i, day in enumerate(valid_days)}\n",
    "    days_list = [day_map[day] for day in days_list]\n",
    "\n",
    "\n",
    "    # Handle input for \"hours\"\n",
    "    hours_pattern = re.compile(r'^\\d{2}-\\d{2}(, ?\\d{2}-\\d{2})*$')\n",
    "    if not hours_pattern.match(hours):\n",
    "        raise ValueError('The input string for hours: \"{0}\" is not in a valid format. Please provide as a string of comma separated ranges. Example: \"06-09, 13-15\"'.format(hours))\n",
    "\n",
    "    hours_list = []\n",
    "    valid_hours = [str(i).zfill(2) for i in range(0,25)]\n",
    "\n",
    "    for h in [h.strip() for h in hours.split(',')]:\n",
    "        start, end = h.split('-')\n",
    "        if end <= start: \n",
    "            raise ValueError('Wrong order of hours: \"{0}\" The first hour in any range should be strictly smaller than the second'.format(h))\n",
    "        if start not in valid_hours or end not in valid_hours:\n",
    "            raise ValueError('Make sure both start \"{0}\" and end \"{1}\" are valid hours of the day.'.format(start, end))\n",
    "        hours_list += [str(day).zfill(2) for day in range(int(start), int(end))]\n",
    "    \n",
    "    hours_list.sort()\n",
    "\n",
    "    if len(hours_list) != len(set(hours_list)):\n",
    "        raise ValueError(\"Make sure that the ranges in hours: {0} do not overlap\".format(hours))\n",
    "\n",
    "    \n",
    "    return start_date, end_date, days_list, hours_list"
   ]
  },
  {
   "cell_type": "code",
   "execution_count": 536,
   "metadata": {},
   "outputs": [],
   "source": [
    "def __findData(start_date, end_date, days, hours):\n",
    "\n",
    "    files = []\n",
    "\n",
    "    start_date, end_date, days, hours = __check_input(start_date, end_date, days, hours)\n",
    "\n",
    "    dates = [date for date in [start_date + timedelta(days=i) for i in range((end_date - start_date).days + 1)] if date.weekday() in days]\n",
    "\n",
    "    print(start_date, end_date, days, hours, dates)"
   ]
  },
  {
   "cell_type": "code",
   "execution_count": 537,
   "metadata": {},
   "outputs": [
    {
     "name": "stdout",
     "output_type": "stream",
     "text": [
      "2022-11-01 00:00:00 2022-12-01 00:00:00 [0, 2] ['09', '10', '11', '13', '14'] [datetime.datetime(2022, 11, 2, 0, 0), datetime.datetime(2022, 11, 7, 0, 0), datetime.datetime(2022, 11, 9, 0, 0), datetime.datetime(2022, 11, 14, 0, 0), datetime.datetime(2022, 11, 16, 0, 0), datetime.datetime(2022, 11, 21, 0, 0), datetime.datetime(2022, 11, 23, 0, 0), datetime.datetime(2022, 11, 28, 0, 0), datetime.datetime(2022, 11, 30, 0, 0)]\n"
     ]
    }
   ],
   "source": [
    "__findData(\"2022-11-01\", \"2022-12-01\", \"mon, wed\", \"09-12, 13-15\")"
   ]
  },
  {
   "cell_type": "code",
   "execution_count": 517,
   "metadata": {},
   "outputs": [
    {
     "data": {
      "text/plain": [
       "[0, 2]"
      ]
     },
     "execution_count": 517,
     "metadata": {},
     "output_type": "execute_result"
    }
   ],
   "source": [
    "valid_days = [\"mon\", \"tue\", \"wed\", \"thu\", \"fri\", \"sat\", \"sun\", \"all\"]\n",
    "day_map = {day: i for i, day in enumerate(valid_days)}\n",
    "days_list = [day_map[day] for day in [\"mon\", \"wed\"]]\n",
    "\n",
    "days_list"
   ]
  }
 ],
 "metadata": {
  "kernelspec": {
   "display_name": "Python 3",
   "language": "python",
   "name": "python3"
  },
  "language_info": {
   "codemirror_mode": {
    "name": "ipython",
    "version": 3
   },
   "file_extension": ".py",
   "mimetype": "text/x-python",
   "name": "python",
   "nbconvert_exporter": "python",
   "pygments_lexer": "ipython3",
   "version": "3.10.6 (main, Mar 10 2023, 10:55:28) [GCC 11.3.0]"
  },
  "orig_nbformat": 4,
  "vscode": {
   "interpreter": {
    "hash": "916dbcbb3f70747c44a77c7bcd40155683ae19c65e1c03b4aa3499c5328201f1"
   }
  }
 },
 "nbformat": 4,
 "nbformat_minor": 2
}
